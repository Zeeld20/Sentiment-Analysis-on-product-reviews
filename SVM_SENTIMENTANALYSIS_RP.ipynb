{
 "cells": [
  {
   "cell_type": "code",
   "execution_count": 2,
   "metadata": {},
   "outputs": [],
   "source": [
    "def parse(path):\n",
    "  g = gzip.open(path, 'r')\n",
    "  for l in g:\n",
    "    yield json.loads(l)"
   ]
  },
  {
   "cell_type": "code",
   "execution_count": 3,
   "metadata": {},
   "outputs": [],
   "source": [
    "import pandas as pd\n",
    "import gzip\n",
    "import json\n",
    "\n",
    "def parse(path):\n",
    "  g = gzip.open(path, 'rb')\n",
    "  for l in g:\n",
    "    yield json.loads(l)\n",
    "\n",
    "def getDF(path):\n",
    "  i = 0\n",
    "  df = {}\n",
    "  for d in parse(path):\n",
    "    df[i] = d\n",
    "    i += 1\n",
    "  return pd.DataFrame.from_dict(df, orient='index')\n",
    "\n",
    "df = getDF('Cell_Phones_and_Accessories_5.json.gz')"
   ]
  },
  {
   "cell_type": "markdown",
   "metadata": {},
   "source": [
    "# Number of reviews = 100000 "
   ]
  },
  {
   "cell_type": "code",
   "execution_count": 4,
   "metadata": {},
   "outputs": [],
   "source": [
    "df100k = df.head(100000)"
   ]
  },
  {
   "cell_type": "code",
   "execution_count": 5,
   "metadata": {},
   "outputs": [],
   "source": [
    "df100k = df100k.rename({'reviewText': 'review'}, axis=1)"
   ]
  },
  {
   "cell_type": "markdown",
   "metadata": {},
   "source": [
    "## Labeling reviews based on 'overall' (rating) "
   ]
  },
  {
   "cell_type": "code",
   "execution_count": 6,
   "metadata": {},
   "outputs": [],
   "source": [
    "df100k['label'] = df100k['overall'].apply(lambda c: 1 if c >3 else (0 if c<3 else 'neut'))"
   ]
  },
  {
   "cell_type": "code",
   "execution_count": 7,
   "metadata": {},
   "outputs": [],
   "source": [
    "df100k = df100k.drop(['overall', 'verified', 'reviewTime', 'reviewerID', 'asin', 'style', 'reviewerName', 'summary', 'unixReviewTime', 'vote', 'image'], axis=1)"
   ]
  },
  {
   "cell_type": "markdown",
   "metadata": {},
   "source": [
    "## Removing neutral reviews "
   ]
  },
  {
   "cell_type": "code",
   "execution_count": 8,
   "metadata": {},
   "outputs": [
    {
     "data": {
      "text/html": [
       "<div>\n",
       "<style scoped>\n",
       "    .dataframe tbody tr th:only-of-type {\n",
       "        vertical-align: middle;\n",
       "    }\n",
       "\n",
       "    .dataframe tbody tr th {\n",
       "        vertical-align: top;\n",
       "    }\n",
       "\n",
       "    .dataframe thead th {\n",
       "        text-align: right;\n",
       "    }\n",
       "</style>\n",
       "<table border=\"1\" class=\"dataframe\">\n",
       "  <thead>\n",
       "    <tr style=\"text-align: right;\">\n",
       "      <th></th>\n",
       "      <th>review</th>\n",
       "      <th>label</th>\n",
       "    </tr>\n",
       "  </thead>\n",
       "  <tbody>\n",
       "    <tr>\n",
       "      <th>0</th>\n",
       "      <td>Looks even better in person. Be careful to not...</td>\n",
       "      <td>1</td>\n",
       "    </tr>\n",
       "    <tr>\n",
       "      <th>1</th>\n",
       "      <td>When you don't want to spend a whole lot of ca...</td>\n",
       "      <td>1</td>\n",
       "    </tr>\n",
       "    <tr>\n",
       "      <th>3</th>\n",
       "      <td>DON'T CARE FOR IT.  GAVE IT AS A GIFT AND THEY...</td>\n",
       "      <td>0</td>\n",
       "    </tr>\n",
       "    <tr>\n",
       "      <th>4</th>\n",
       "      <td>I liked it because it was cute, but the studs ...</td>\n",
       "      <td>1</td>\n",
       "    </tr>\n",
       "    <tr>\n",
       "      <th>5</th>\n",
       "      <td>The product looked exactly like the picture an...</td>\n",
       "      <td>0</td>\n",
       "    </tr>\n",
       "    <tr>\n",
       "      <th>...</th>\n",
       "      <td>...</td>\n",
       "      <td>...</td>\n",
       "    </tr>\n",
       "    <tr>\n",
       "      <th>99995</th>\n",
       "      <td>Great little hard cover for my son's \"dumb\" ph...</td>\n",
       "      <td>1</td>\n",
       "    </tr>\n",
       "    <tr>\n",
       "      <th>99996</th>\n",
       "      <td>This is a good case that holds my phone togeth...</td>\n",
       "      <td>1</td>\n",
       "    </tr>\n",
       "    <tr>\n",
       "      <th>99997</th>\n",
       "      <td>I initially thought it wasn't charging, since ...</td>\n",
       "      <td>1</td>\n",
       "    </tr>\n",
       "    <tr>\n",
       "      <th>99998</th>\n",
       "      <td>Charger is great quality and charges both rath...</td>\n",
       "      <td>1</td>\n",
       "    </tr>\n",
       "    <tr>\n",
       "      <th>99999</th>\n",
       "      <td>Needed a holster for my LG Optimus V which had...</td>\n",
       "      <td>1</td>\n",
       "    </tr>\n",
       "  </tbody>\n",
       "</table>\n",
       "<p>89416 rows × 2 columns</p>\n",
       "</div>"
      ],
      "text/plain": [
       "                                                  review label\n",
       "0      Looks even better in person. Be careful to not...     1\n",
       "1      When you don't want to spend a whole lot of ca...     1\n",
       "3      DON'T CARE FOR IT.  GAVE IT AS A GIFT AND THEY...     0\n",
       "4      I liked it because it was cute, but the studs ...     1\n",
       "5      The product looked exactly like the picture an...     0\n",
       "...                                                  ...   ...\n",
       "99995  Great little hard cover for my son's \"dumb\" ph...     1\n",
       "99996  This is a good case that holds my phone togeth...     1\n",
       "99997  I initially thought it wasn't charging, since ...     1\n",
       "99998  Charger is great quality and charges both rath...     1\n",
       "99999  Needed a holster for my LG Optimus V which had...     1\n",
       "\n",
       "[89416 rows x 2 columns]"
      ]
     },
     "execution_count": 8,
     "metadata": {},
     "output_type": "execute_result"
    }
   ],
   "source": [
    "df100k = df100k[df100k['label'] != 'neut']\n",
    "df100k"
   ]
  },
  {
   "cell_type": "markdown",
   "metadata": {},
   "source": [
    "### Checking for NaN values "
   ]
  },
  {
   "cell_type": "code",
   "execution_count": 9,
   "metadata": {},
   "outputs": [
    {
     "data": {
      "text/plain": [
       "True"
      ]
     },
     "execution_count": 9,
     "metadata": {},
     "output_type": "execute_result"
    }
   ],
   "source": [
    "df100k['review'].isnull().values.any()"
   ]
  },
  {
   "cell_type": "code",
   "execution_count": null,
   "metadata": {},
   "outputs": [],
   "source": []
  },
  {
   "cell_type": "code",
   "execution_count": 10,
   "metadata": {},
   "outputs": [
    {
     "data": {
      "text/plain": [
       "False"
      ]
     },
     "execution_count": 10,
     "metadata": {},
     "output_type": "execute_result"
    }
   ],
   "source": [
    "import numpy as np\n",
    "df100k = df100k.replace(np.nan, '', regex=True)\n",
    "df100k['review'].isnull().values.any()"
   ]
  },
  {
   "cell_type": "code",
   "execution_count": null,
   "metadata": {},
   "outputs": [],
   "source": []
  },
  {
   "cell_type": "code",
   "execution_count": 11,
   "metadata": {},
   "outputs": [
    {
     "data": {
      "text/plain": [
       "1    74567\n",
       "0    14849\n",
       "Name: label, dtype: int64"
      ]
     },
     "execution_count": 11,
     "metadata": {},
     "output_type": "execute_result"
    }
   ],
   "source": [
    "df100k['label'].value_counts()"
   ]
  },
  {
   "cell_type": "code",
   "execution_count": null,
   "metadata": {},
   "outputs": [],
   "source": []
  },
  {
   "cell_type": "markdown",
   "metadata": {},
   "source": [
    "## Distributing sentiments equally  "
   ]
  },
  {
   "cell_type": "code",
   "execution_count": 12,
   "metadata": {},
   "outputs": [
    {
     "name": "stdout",
     "output_type": "stream",
     "text": [
      "After segregating and taking equal number of rows for each sentiment:\n",
      "1    15000\n",
      "0    14849\n",
      "Name: label, dtype: int64\n"
     ]
    },
    {
     "data": {
      "text/html": [
       "<div>\n",
       "<style scoped>\n",
       "    .dataframe tbody tr th:only-of-type {\n",
       "        vertical-align: middle;\n",
       "    }\n",
       "\n",
       "    .dataframe tbody tr th {\n",
       "        vertical-align: top;\n",
       "    }\n",
       "\n",
       "    .dataframe thead th {\n",
       "        text-align: right;\n",
       "    }\n",
       "</style>\n",
       "<table border=\"1\" class=\"dataframe\">\n",
       "  <thead>\n",
       "    <tr style=\"text-align: right;\">\n",
       "      <th></th>\n",
       "      <th>review</th>\n",
       "      <th>label</th>\n",
       "    </tr>\n",
       "  </thead>\n",
       "  <tbody>\n",
       "    <tr>\n",
       "      <th>0</th>\n",
       "      <td>Looks even better in person. Be careful to not...</td>\n",
       "      <td>1</td>\n",
       "    </tr>\n",
       "    <tr>\n",
       "      <th>1</th>\n",
       "      <td>When you don't want to spend a whole lot of ca...</td>\n",
       "      <td>1</td>\n",
       "    </tr>\n",
       "    <tr>\n",
       "      <th>4</th>\n",
       "      <td>I liked it because it was cute, but the studs ...</td>\n",
       "      <td>1</td>\n",
       "    </tr>\n",
       "    <tr>\n",
       "      <th>7</th>\n",
       "      <td>It is a very cute case. None of the jewels hav...</td>\n",
       "      <td>1</td>\n",
       "    </tr>\n",
       "    <tr>\n",
       "      <th>9</th>\n",
       "      <td>I really love this case... you have to keep yo...</td>\n",
       "      <td>1</td>\n",
       "    </tr>\n",
       "    <tr>\n",
       "      <th>10</th>\n",
       "      <td>its super cute and makes my phone pretting and...</td>\n",
       "      <td>1</td>\n",
       "    </tr>\n",
       "    <tr>\n",
       "      <th>11</th>\n",
       "      <td>Another great product that my daughter she use...</td>\n",
       "      <td>1</td>\n",
       "    </tr>\n",
       "    <tr>\n",
       "      <th>13</th>\n",
       "      <td>I purchased this for my grand-daughters phone....</td>\n",
       "      <td>1</td>\n",
       "    </tr>\n",
       "    <tr>\n",
       "      <th>14</th>\n",
       "      <td>Beautiful quality and outstanding product! Eve...</td>\n",
       "      <td>1</td>\n",
       "    </tr>\n",
       "    <tr>\n",
       "      <th>15</th>\n",
       "      <td>It is such a good case for a low price. I have...</td>\n",
       "      <td>1</td>\n",
       "    </tr>\n",
       "  </tbody>\n",
       "</table>\n",
       "</div>"
      ],
      "text/plain": [
       "                                               review  label\n",
       "0   Looks even better in person. Be careful to not...      1\n",
       "1   When you don't want to spend a whole lot of ca...      1\n",
       "4   I liked it because it was cute, but the studs ...      1\n",
       "7   It is a very cute case. None of the jewels hav...      1\n",
       "9   I really love this case... you have to keep yo...      1\n",
       "10  its super cute and makes my phone pretting and...      1\n",
       "11  Another great product that my daughter she use...      1\n",
       "13  I purchased this for my grand-daughters phone....      1\n",
       "14  Beautiful quality and outstanding product! Eve...      1\n",
       "15  It is such a good case for a low price. I have...      1"
      ]
     },
     "execution_count": 12,
     "metadata": {},
     "output_type": "execute_result"
    }
   ],
   "source": [
    "def get_top_data(top_n):\n",
    "    top_data_df_positive = df100k[df100k['label'] == 1].head(top_n)\n",
    "    top_data_df_negative = df100k[df100k['label'] == 0].head(top_n)\n",
    "    top_data_df_small = pd.concat([top_data_df_positive, top_data_df_negative])\n",
    "    return top_data_df_small\n",
    "\n",
    "# Function call to get the top 10000 from each sentiment\n",
    "top_data_df_small = get_top_data(top_n=15000)\n",
    "\n",
    "# After selecting top few samples of each sentiment\n",
    "print(\"After segregating and taking equal number of rows for each sentiment:\")\n",
    "print(top_data_df_small['label'].value_counts())\n",
    "top_data_df_small.head(10)"
   ]
  },
  {
   "cell_type": "markdown",
   "metadata": {},
   "source": [
    "# Pre-processing"
   ]
  },
  {
   "cell_type": "code",
   "execution_count": 13,
   "metadata": {},
   "outputs": [],
   "source": [
    "df30k = top_data_df_small"
   ]
  },
  {
   "cell_type": "code",
   "execution_count": 14,
   "metadata": {},
   "outputs": [],
   "source": [
    "import re\n",
    "from nltk.corpus import stopwords\n",
    "from wordcloud import WordCloud, STOPWORDS\n",
    "import spacy"
   ]
  },
  {
   "cell_type": "code",
   "execution_count": 15,
   "metadata": {},
   "outputs": [],
   "source": [
    "nlp = spacy.load('en_core_web_sm', disable=['parser', 'ner'])"
   ]
  },
  {
   "cell_type": "code",
   "execution_count": 16,
   "metadata": {},
   "outputs": [],
   "source": [
    "df30k['new_reviews'] = df30k['review'].apply(lambda x: \" \".join(x.lower() for x in x.split()))"
   ]
  },
  {
   "cell_type": "code",
   "execution_count": 17,
   "metadata": {},
   "outputs": [
    {
     "name": "stderr",
     "output_type": "stream",
     "text": [
      "<ipython-input-17-a29c35a78d28>:1: FutureWarning: The default value of regex will change from True to False in a future version.\n",
      "  df30k['new_reviews'] = df30k['new_reviews'].str.replace('[^\\w\\s]','')\n"
     ]
    }
   ],
   "source": [
    "df30k['new_reviews'] = df30k['new_reviews'].str.replace('[^\\w\\s]','')"
   ]
  },
  {
   "cell_type": "code",
   "execution_count": 18,
   "metadata": {},
   "outputs": [
    {
     "data": {
      "text/html": [
       "<div>\n",
       "<style scoped>\n",
       "    .dataframe tbody tr th:only-of-type {\n",
       "        vertical-align: middle;\n",
       "    }\n",
       "\n",
       "    .dataframe tbody tr th {\n",
       "        vertical-align: top;\n",
       "    }\n",
       "\n",
       "    .dataframe thead th {\n",
       "        text-align: right;\n",
       "    }\n",
       "</style>\n",
       "<table border=\"1\" class=\"dataframe\">\n",
       "  <thead>\n",
       "    <tr style=\"text-align: right;\">\n",
       "      <th></th>\n",
       "      <th>review</th>\n",
       "      <th>label</th>\n",
       "      <th>new_reviews</th>\n",
       "    </tr>\n",
       "  </thead>\n",
       "  <tbody>\n",
       "    <tr>\n",
       "      <th>0</th>\n",
       "      <td>Looks even better in person. Be careful to not...</td>\n",
       "      <td>1</td>\n",
       "      <td>look even well in person be careful to not dro...</td>\n",
       "    </tr>\n",
       "    <tr>\n",
       "      <th>1</th>\n",
       "      <td>When you don't want to spend a whole lot of ca...</td>\n",
       "      <td>1</td>\n",
       "      <td>when you do nt want to spend a whole lot of ca...</td>\n",
       "    </tr>\n",
       "    <tr>\n",
       "      <th>4</th>\n",
       "      <td>I liked it because it was cute, but the studs ...</td>\n",
       "      <td>1</td>\n",
       "      <td>I like it because it be cute but the stud fall...</td>\n",
       "    </tr>\n",
       "    <tr>\n",
       "      <th>7</th>\n",
       "      <td>It is a very cute case. None of the jewels hav...</td>\n",
       "      <td>1</td>\n",
       "      <td>it be a very cute case none of the jewel have ...</td>\n",
       "    </tr>\n",
       "    <tr>\n",
       "      <th>9</th>\n",
       "      <td>I really love this case... you have to keep yo...</td>\n",
       "      <td>1</td>\n",
       "      <td>I really love this case you have to keep your ...</td>\n",
       "    </tr>\n",
       "    <tr>\n",
       "      <th>10</th>\n",
       "      <td>its super cute and makes my phone pretting and...</td>\n",
       "      <td>1</td>\n",
       "      <td>its super cute and make my phone prette and I ...</td>\n",
       "    </tr>\n",
       "    <tr>\n",
       "      <th>11</th>\n",
       "      <td>Another great product that my daughter she use...</td>\n",
       "      <td>1</td>\n",
       "      <td>another great product that my daughter she use...</td>\n",
       "    </tr>\n",
       "    <tr>\n",
       "      <th>13</th>\n",
       "      <td>I purchased this for my grand-daughters phone....</td>\n",
       "      <td>1</td>\n",
       "      <td>I purchase this for my granddaughter phone she...</td>\n",
       "    </tr>\n",
       "    <tr>\n",
       "      <th>14</th>\n",
       "      <td>Beautiful quality and outstanding product! Eve...</td>\n",
       "      <td>1</td>\n",
       "      <td>beautiful quality and outstanding product ever...</td>\n",
       "    </tr>\n",
       "    <tr>\n",
       "      <th>15</th>\n",
       "      <td>It is such a good case for a low price. I have...</td>\n",
       "      <td>1</td>\n",
       "      <td>it be such a good case for a low price I have ...</td>\n",
       "    </tr>\n",
       "    <tr>\n",
       "      <th>18</th>\n",
       "      <td>Super durable and I get compliments on it dail...</td>\n",
       "      <td>1</td>\n",
       "      <td>super durable and I get compliment on it daily...</td>\n",
       "    </tr>\n",
       "    <tr>\n",
       "      <th>19</th>\n",
       "      <td>I have used this case for a couple weeks &amp; so ...</td>\n",
       "      <td>1</td>\n",
       "      <td>I have use this case for a couple week   so fa...</td>\n",
       "    </tr>\n",
       "    <tr>\n",
       "      <th>21</th>\n",
       "      <td>I chose this case because it is so beautiful. ...</td>\n",
       "      <td>1</td>\n",
       "      <td>I choose this case because it be so beautiful ...</td>\n",
       "    </tr>\n",
       "    <tr>\n",
       "      <th>22</th>\n",
       "      <td>Of all my cases this is the one that I have on...</td>\n",
       "      <td>1</td>\n",
       "      <td>of all my case this be the one that I have on ...</td>\n",
       "    </tr>\n",
       "    <tr>\n",
       "      <th>23</th>\n",
       "      <td>really pretty! ive had a couple gems come off,...</td>\n",
       "      <td>1</td>\n",
       "      <td>really pretty I ve have a couple gem come off ...</td>\n",
       "    </tr>\n",
       "    <tr>\n",
       "      <th>24</th>\n",
       "      <td>this case is so cute it looks good on my white...</td>\n",
       "      <td>1</td>\n",
       "      <td>this case be so cute it look good on my white ...</td>\n",
       "    </tr>\n",
       "    <tr>\n",
       "      <th>25</th>\n",
       "      <td>here is another I love as well!!!, I am so hap...</td>\n",
       "      <td>1</td>\n",
       "      <td>here be another I love as well I be so happy w...</td>\n",
       "    </tr>\n",
       "    <tr>\n",
       "      <th>26</th>\n",
       "      <td>This case is very cute!! I've gotten so many c...</td>\n",
       "      <td>1</td>\n",
       "      <td>this case be very cute I ve get so many comple...</td>\n",
       "    </tr>\n",
       "    <tr>\n",
       "      <th>28</th>\n",
       "      <td>This case is soo super pretty! This case may l...</td>\n",
       "      <td>1</td>\n",
       "      <td>this case be soo super pretty this case may lo...</td>\n",
       "    </tr>\n",
       "    <tr>\n",
       "      <th>29</th>\n",
       "      <td>This is a great case if you love the bling.  I...</td>\n",
       "      <td>1</td>\n",
       "      <td>this be a great case if you love the bling I g...</td>\n",
       "    </tr>\n",
       "  </tbody>\n",
       "</table>\n",
       "</div>"
      ],
      "text/plain": [
       "                                               review  label  \\\n",
       "0   Looks even better in person. Be careful to not...      1   \n",
       "1   When you don't want to spend a whole lot of ca...      1   \n",
       "4   I liked it because it was cute, but the studs ...      1   \n",
       "7   It is a very cute case. None of the jewels hav...      1   \n",
       "9   I really love this case... you have to keep yo...      1   \n",
       "10  its super cute and makes my phone pretting and...      1   \n",
       "11  Another great product that my daughter she use...      1   \n",
       "13  I purchased this for my grand-daughters phone....      1   \n",
       "14  Beautiful quality and outstanding product! Eve...      1   \n",
       "15  It is such a good case for a low price. I have...      1   \n",
       "18  Super durable and I get compliments on it dail...      1   \n",
       "19  I have used this case for a couple weeks & so ...      1   \n",
       "21  I chose this case because it is so beautiful. ...      1   \n",
       "22  Of all my cases this is the one that I have on...      1   \n",
       "23  really pretty! ive had a couple gems come off,...      1   \n",
       "24  this case is so cute it looks good on my white...      1   \n",
       "25  here is another I love as well!!!, I am so hap...      1   \n",
       "26  This case is very cute!! I've gotten so many c...      1   \n",
       "28  This case is soo super pretty! This case may l...      1   \n",
       "29  This is a great case if you love the bling.  I...      1   \n",
       "\n",
       "                                          new_reviews  \n",
       "0   look even well in person be careful to not dro...  \n",
       "1   when you do nt want to spend a whole lot of ca...  \n",
       "4   I like it because it be cute but the stud fall...  \n",
       "7   it be a very cute case none of the jewel have ...  \n",
       "9   I really love this case you have to keep your ...  \n",
       "10  its super cute and make my phone prette and I ...  \n",
       "11  another great product that my daughter she use...  \n",
       "13  I purchase this for my granddaughter phone she...  \n",
       "14  beautiful quality and outstanding product ever...  \n",
       "15  it be such a good case for a low price I have ...  \n",
       "18  super durable and I get compliment on it daily...  \n",
       "19  I have use this case for a couple week   so fa...  \n",
       "21  I choose this case because it be so beautiful ...  \n",
       "22  of all my case this be the one that I have on ...  \n",
       "23  really pretty I ve have a couple gem come off ...  \n",
       "24  this case be so cute it look good on my white ...  \n",
       "25  here be another I love as well I be so happy w...  \n",
       "26  this case be very cute I ve get so many comple...  \n",
       "28  this case be soo super pretty this case may lo...  \n",
       "29  this be a great case if you love the bling I g...  "
      ]
     },
     "execution_count": 18,
     "metadata": {},
     "output_type": "execute_result"
    }
   ],
   "source": [
    "def space(comment):\n",
    "    doc = nlp(comment)\n",
    "    return \" \".join([token.lemma_ for token in doc])\n",
    "df30k['new_reviews']= df30k['new_reviews'].apply(space)\n",
    "df30k.head(20)"
   ]
  },
  {
   "cell_type": "code",
   "execution_count": 19,
   "metadata": {},
   "outputs": [
    {
     "data": {
      "text/html": [
       "<div>\n",
       "<style scoped>\n",
       "    .dataframe tbody tr th:only-of-type {\n",
       "        vertical-align: middle;\n",
       "    }\n",
       "\n",
       "    .dataframe tbody tr th {\n",
       "        vertical-align: top;\n",
       "    }\n",
       "\n",
       "    .dataframe thead th {\n",
       "        text-align: right;\n",
       "    }\n",
       "</style>\n",
       "<table border=\"1\" class=\"dataframe\">\n",
       "  <thead>\n",
       "    <tr style=\"text-align: right;\">\n",
       "      <th></th>\n",
       "      <th>label</th>\n",
       "      <th>review</th>\n",
       "    </tr>\n",
       "  </thead>\n",
       "  <tbody>\n",
       "    <tr>\n",
       "      <th>0</th>\n",
       "      <td>1</td>\n",
       "      <td>look even well in person be careful to not dro...</td>\n",
       "    </tr>\n",
       "    <tr>\n",
       "      <th>1</th>\n",
       "      <td>1</td>\n",
       "      <td>when you do nt want to spend a whole lot of ca...</td>\n",
       "    </tr>\n",
       "    <tr>\n",
       "      <th>4</th>\n",
       "      <td>1</td>\n",
       "      <td>I like it because it be cute but the stud fall...</td>\n",
       "    </tr>\n",
       "    <tr>\n",
       "      <th>7</th>\n",
       "      <td>1</td>\n",
       "      <td>it be a very cute case none of the jewel have ...</td>\n",
       "    </tr>\n",
       "    <tr>\n",
       "      <th>9</th>\n",
       "      <td>1</td>\n",
       "      <td>I really love this case you have to keep your ...</td>\n",
       "    </tr>\n",
       "    <tr>\n",
       "      <th>...</th>\n",
       "      <td>...</td>\n",
       "      <td>...</td>\n",
       "    </tr>\n",
       "    <tr>\n",
       "      <th>99979</th>\n",
       "      <td>0</td>\n",
       "      <td>as other have mention the rubber piece that ho...</td>\n",
       "    </tr>\n",
       "    <tr>\n",
       "      <th>99983</th>\n",
       "      <td>0</td>\n",
       "      <td>refuse to charge but amazom replace it right a...</td>\n",
       "    </tr>\n",
       "    <tr>\n",
       "      <th>99988</th>\n",
       "      <td>0</td>\n",
       "      <td>this review be for the blueant wireless t1 blu...</td>\n",
       "    </tr>\n",
       "    <tr>\n",
       "      <th>99991</th>\n",
       "      <td>0</td>\n",
       "      <td>I purchase this because it play music and that...</td>\n",
       "    </tr>\n",
       "    <tr>\n",
       "      <th>99993</th>\n",
       "      <td>0</td>\n",
       "      <td>while the headset perform ok noise reduction s...</td>\n",
       "    </tr>\n",
       "  </tbody>\n",
       "</table>\n",
       "<p>29849 rows × 2 columns</p>\n",
       "</div>"
      ],
      "text/plain": [
       "       label                                             review\n",
       "0          1  look even well in person be careful to not dro...\n",
       "1          1  when you do nt want to spend a whole lot of ca...\n",
       "4          1  I like it because it be cute but the stud fall...\n",
       "7          1  it be a very cute case none of the jewel have ...\n",
       "9          1  I really love this case you have to keep your ...\n",
       "...      ...                                                ...\n",
       "99979      0  as other have mention the rubber piece that ho...\n",
       "99983      0  refuse to charge but amazom replace it right a...\n",
       "99988      0  this review be for the blueant wireless t1 blu...\n",
       "99991      0  I purchase this because it play music and that...\n",
       "99993      0  while the headset perform ok noise reduction s...\n",
       "\n",
       "[29849 rows x 2 columns]"
      ]
     },
     "execution_count": 19,
     "metadata": {},
     "output_type": "execute_result"
    }
   ],
   "source": [
    "df30k = df30k.drop(['review'], axis=1)\n",
    "df30k = df30k.rename({'new_reviews': 'review'}, axis=1)\n",
    "df30k"
   ]
  },
  {
   "cell_type": "code",
   "execution_count": null,
   "metadata": {},
   "outputs": [],
   "source": []
  },
  {
   "cell_type": "code",
   "execution_count": null,
   "metadata": {},
   "outputs": [],
   "source": []
  },
  {
   "cell_type": "code",
   "execution_count": null,
   "metadata": {},
   "outputs": [],
   "source": []
  },
  {
   "cell_type": "code",
   "execution_count": null,
   "metadata": {},
   "outputs": [],
   "source": []
  },
  {
   "cell_type": "markdown",
   "metadata": {},
   "source": [
    "# Splitting into train and test data "
   ]
  },
  {
   "cell_type": "code",
   "execution_count": 20,
   "metadata": {},
   "outputs": [],
   "source": [
    "from sklearn.model_selection import train_test_split\n",
    "X_train, X_test, y_train, y_test = train_test_split(df30k.review, df30k.label, test_size=0.2, random_state=32)"
   ]
  },
  {
   "cell_type": "markdown",
   "metadata": {},
   "source": [
    "# Vectorizing the reviews "
   ]
  },
  {
   "cell_type": "code",
   "execution_count": 21,
   "metadata": {},
   "outputs": [],
   "source": [
    "from sklearn.feature_extraction.text import TfidfVectorizer\n",
    "# Create feature vectors\n",
    "vectorizer = TfidfVectorizer(min_df = 5,\n",
    "                             max_df = 0.8,\n",
    "                             sublinear_tf = True,\n",
    "                             use_idf = True)\n",
    "train_vectors = vectorizer.fit_transform(X_train)\n",
    "test_vectors = vectorizer.transform(X_test)"
   ]
  },
  {
   "cell_type": "markdown",
   "metadata": {},
   "source": [
    "# Training the model "
   ]
  },
  {
   "cell_type": "code",
   "execution_count": 22,
   "metadata": {},
   "outputs": [
    {
     "name": "stdout",
     "output_type": "stream",
     "text": [
      "Training time: 99.085213s; Prediction time: 17.579832s\n"
     ]
    }
   ],
   "source": [
    "import time\n",
    "from sklearn import svm\n",
    "from sklearn.metrics import classification_report\n",
    "# Perform classification with SVM, kernel=linear\n",
    "classifier_linear = svm.SVC(kernel='linear')\n",
    "t0 = time.time()\n",
    "classifier_linear.fit(train_vectors, y_train)\n",
    "t1 = time.time()\n",
    "prediction_linear = classifier_linear.predict(test_vectors)\n",
    "t2 = time.time()\n",
    "time_linear_train = t1-t0\n",
    "time_linear_predict = t2-t1\n",
    "# results\n",
    "print(\"Training time: %fs; Prediction time: %fs\" % (time_linear_train, time_linear_predict))"
   ]
  },
  {
   "cell_type": "markdown",
   "metadata": {},
   "source": [
    "# Testing the model on test data and printing classification report "
   ]
  },
  {
   "cell_type": "code",
   "execution_count": 23,
   "metadata": {},
   "outputs": [
    {
     "name": "stdout",
     "output_type": "stream",
     "text": [
      "              precision    recall  f1-score   support\n",
      "\n",
      "           0       0.88      0.89      0.89      2951\n",
      "           1       0.90      0.88      0.89      3019\n",
      "\n",
      "    accuracy                           0.89      5970\n",
      "   macro avg       0.89      0.89      0.89      5970\n",
      "weighted avg       0.89      0.89      0.89      5970\n",
      "\n"
     ]
    }
   ],
   "source": [
    "print(classification_report(y_test,prediction_linear))"
   ]
  },
  {
   "cell_type": "code",
   "execution_count": null,
   "metadata": {},
   "outputs": [],
   "source": []
  }
 ],
 "metadata": {
  "kernelspec": {
   "display_name": "bert",
   "language": "python",
   "name": "bert"
  },
  "language_info": {
   "codemirror_mode": {
    "name": "ipython",
    "version": 3
   },
   "file_extension": ".py",
   "mimetype": "text/x-python",
   "name": "python",
   "nbconvert_exporter": "python",
   "pygments_lexer": "ipython3",
   "version": "3.8.5"
  }
 },
 "nbformat": 4,
 "nbformat_minor": 4
}
